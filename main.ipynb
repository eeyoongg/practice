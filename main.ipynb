{
 "cells": [
  {
   "cell_type": "code",
   "execution_count": 2,
   "id": "eb76297d",
   "metadata": {},
   "outputs": [],
   "source": [
    "%load_ext autoreload\n",
    "\n",
    "# Reading libraries....\n",
    "import ASMElib\n",
    "import importlib\n",
    "\n",
    "from ASMElib import * \n",
    "importlib.reload(ASMElib)\n",
    "\n",
    "import matplotlib.pyplot as plt\n",
    "import matplotlib.image as mpimg\n",
    "\n",
    "# 재료:  SS316H (ASME에는 TP316H라 표시됨. SS316과는 다름)\n",
    "#Pm: the general primary memberane stress "
   ]
  },
  {
   "cell_type": "code",
   "execution_count": 3,
   "id": "3301a9bf",
   "metadata": {},
   "outputs": [
    {
     "name": "stdin",
     "output_type": "stream",
     "text": [
      "Pm 값을 입력하세요. 단위 (MPa):  50\n",
      "PL 값을 입력하세요. 단위 (MPa):  50\n",
      "Pb 값을 입력하세요. 단위 (MPa):  50\n"
     ]
    }
   ],
   "source": [
    "Pm = float(input(\"Pm 값을 입력하세요. 단위 (MPa): \"))\n",
    "PL = float(input(\"PL 값을 입력하세요. 단위 (MPa): \"))\n",
    "Pb = float(input(\"Pb 값을 입력하세요. 단위 (MPa): \"))"
   ]
  },
  {
   "cell_type": "code",
   "execution_count": 5,
   "id": "dbfc2e43",
   "metadata": {},
   "outputs": [],
   "source": [
    "# Test Case (Given)\n",
    "Pm = 50 \n",
    "PL = 60 \n",
    "Pb = 60"
   ]
  },
  {
   "cell_type": "markdown",
   "id": "680cd8eb",
   "metadata": {},
   "source": [
    "# Design Limit "
   ]
  },
  {
   "cell_type": "code",
   "execution_count": 6,
   "id": "255007ce",
   "metadata": {},
   "outputs": [
    {
     "ename": "FileNotFoundError",
     "evalue": "[Errno 2] No such file or directory: './data/TP316H_So.csv'",
     "output_type": "error",
     "traceback": [
      "\u001b[1;31m---------------------------------------------------------------------------\u001b[0m",
      "\u001b[1;31mFileNotFoundError\u001b[0m                         Traceback (most recent call last)",
      "Cell \u001b[1;32mIn[6], line 11\u001b[0m\n\u001b[0;32m      1\u001b[0m \u001b[38;5;66;03m# 판단 기준\u001b[39;00m\n\u001b[0;32m      2\u001b[0m \u001b[38;5;66;03m# [입력값] Pm, PL, Pb\u001b[39;00m\n\u001b[0;32m      3\u001b[0m \u001b[38;5;66;03m# [설계 조건]  \u001b[39;00m\n\u001b[1;32m   (...)\u001b[0m\n\u001b[0;32m      8\u001b[0m \u001b[38;5;66;03m# So: the maximum allowable value of general primary membrane stress intensity \u001b[39;00m\n\u001b[0;32m      9\u001b[0m \u001b[38;5;66;03m# (참고)So 결정할 때, 저온의 경우 Smt까지 고려해서 결정해야함. (56page)\u001b[39;00m\n\u001b[1;32m---> 11\u001b[0m So\u001b[38;5;241m=\u001b[39mdetermine_So(\u001b[38;5;124m\"\u001b[39m\u001b[38;5;124m./data/TP316H_So.csv\u001b[39m\u001b[38;5;124m\"\u001b[39m)\n\u001b[0;32m     12\u001b[0m \u001b[38;5;28mprint\u001b[39m(\u001b[38;5;124mf\u001b[39m\u001b[38;5;124m\"\u001b[39m\u001b[38;5;124m테이블에서 읽은 So 값: \u001b[39m\u001b[38;5;132;01m{\u001b[39;00mSo\u001b[38;5;132;01m:\u001b[39;00m\u001b[38;5;124m.2f\u001b[39m\u001b[38;5;132;01m}\u001b[39;00m\u001b[38;5;124m MPa\u001b[39m\u001b[38;5;124m\"\u001b[39m)\n\u001b[0;32m     15\u001b[0m \u001b[38;5;66;03m# [2단계] 설계점 평가 \u001b[39;00m\n",
      "File \u001b[1;32m~\\github2\\practice\\ASMElib.py:113\u001b[0m, in \u001b[0;36mdetermine_So\u001b[1;34m(filename)\u001b[0m\n\u001b[0;32m    111\u001b[0m \u001b[38;5;28;01mdef\u001b[39;00m\u001b[38;5;250m \u001b[39m\u001b[38;5;21mdetermine_So\u001b[39m(filename):\n\u001b[0;32m    112\u001b[0m     \u001b[38;5;66;03m# CSV 파일 읽기\u001b[39;00m\n\u001b[1;32m--> 113\u001b[0m     df \u001b[38;5;241m=\u001b[39m pd\u001b[38;5;241m.\u001b[39mread_csv(filename)\n\u001b[0;32m    114\u001b[0m     \u001b[38;5;66;03m# 처음 두 열 보여주기\u001b[39;00m\n\u001b[0;32m    115\u001b[0m     \u001b[38;5;28mprint\u001b[39m(df\u001b[38;5;241m.\u001b[39miloc[:, :\u001b[38;5;241m2\u001b[39m])  \n",
      "File \u001b[1;32m~\\anaconda3\\Lib\\site-packages\\pandas\\io\\parsers\\readers.py:1026\u001b[0m, in \u001b[0;36mread_csv\u001b[1;34m(filepath_or_buffer, sep, delimiter, header, names, index_col, usecols, dtype, engine, converters, true_values, false_values, skipinitialspace, skiprows, skipfooter, nrows, na_values, keep_default_na, na_filter, verbose, skip_blank_lines, parse_dates, infer_datetime_format, keep_date_col, date_parser, date_format, dayfirst, cache_dates, iterator, chunksize, compression, thousands, decimal, lineterminator, quotechar, quoting, doublequote, escapechar, comment, encoding, encoding_errors, dialect, on_bad_lines, delim_whitespace, low_memory, memory_map, float_precision, storage_options, dtype_backend)\u001b[0m\n\u001b[0;32m   1013\u001b[0m kwds_defaults \u001b[38;5;241m=\u001b[39m _refine_defaults_read(\n\u001b[0;32m   1014\u001b[0m     dialect,\n\u001b[0;32m   1015\u001b[0m     delimiter,\n\u001b[1;32m   (...)\u001b[0m\n\u001b[0;32m   1022\u001b[0m     dtype_backend\u001b[38;5;241m=\u001b[39mdtype_backend,\n\u001b[0;32m   1023\u001b[0m )\n\u001b[0;32m   1024\u001b[0m kwds\u001b[38;5;241m.\u001b[39mupdate(kwds_defaults)\n\u001b[1;32m-> 1026\u001b[0m \u001b[38;5;28;01mreturn\u001b[39;00m _read(filepath_or_buffer, kwds)\n",
      "File \u001b[1;32m~\\anaconda3\\Lib\\site-packages\\pandas\\io\\parsers\\readers.py:620\u001b[0m, in \u001b[0;36m_read\u001b[1;34m(filepath_or_buffer, kwds)\u001b[0m\n\u001b[0;32m    617\u001b[0m _validate_names(kwds\u001b[38;5;241m.\u001b[39mget(\u001b[38;5;124m\"\u001b[39m\u001b[38;5;124mnames\u001b[39m\u001b[38;5;124m\"\u001b[39m, \u001b[38;5;28;01mNone\u001b[39;00m))\n\u001b[0;32m    619\u001b[0m \u001b[38;5;66;03m# Create the parser.\u001b[39;00m\n\u001b[1;32m--> 620\u001b[0m parser \u001b[38;5;241m=\u001b[39m TextFileReader(filepath_or_buffer, \u001b[38;5;241m*\u001b[39m\u001b[38;5;241m*\u001b[39mkwds)\n\u001b[0;32m    622\u001b[0m \u001b[38;5;28;01mif\u001b[39;00m chunksize \u001b[38;5;129;01mor\u001b[39;00m iterator:\n\u001b[0;32m    623\u001b[0m     \u001b[38;5;28;01mreturn\u001b[39;00m parser\n",
      "File \u001b[1;32m~\\anaconda3\\Lib\\site-packages\\pandas\\io\\parsers\\readers.py:1620\u001b[0m, in \u001b[0;36mTextFileReader.__init__\u001b[1;34m(self, f, engine, **kwds)\u001b[0m\n\u001b[0;32m   1617\u001b[0m     \u001b[38;5;28mself\u001b[39m\u001b[38;5;241m.\u001b[39moptions[\u001b[38;5;124m\"\u001b[39m\u001b[38;5;124mhas_index_names\u001b[39m\u001b[38;5;124m\"\u001b[39m] \u001b[38;5;241m=\u001b[39m kwds[\u001b[38;5;124m\"\u001b[39m\u001b[38;5;124mhas_index_names\u001b[39m\u001b[38;5;124m\"\u001b[39m]\n\u001b[0;32m   1619\u001b[0m \u001b[38;5;28mself\u001b[39m\u001b[38;5;241m.\u001b[39mhandles: IOHandles \u001b[38;5;241m|\u001b[39m \u001b[38;5;28;01mNone\u001b[39;00m \u001b[38;5;241m=\u001b[39m \u001b[38;5;28;01mNone\u001b[39;00m\n\u001b[1;32m-> 1620\u001b[0m \u001b[38;5;28mself\u001b[39m\u001b[38;5;241m.\u001b[39m_engine \u001b[38;5;241m=\u001b[39m \u001b[38;5;28mself\u001b[39m\u001b[38;5;241m.\u001b[39m_make_engine(f, \u001b[38;5;28mself\u001b[39m\u001b[38;5;241m.\u001b[39mengine)\n",
      "File \u001b[1;32m~\\anaconda3\\Lib\\site-packages\\pandas\\io\\parsers\\readers.py:1880\u001b[0m, in \u001b[0;36mTextFileReader._make_engine\u001b[1;34m(self, f, engine)\u001b[0m\n\u001b[0;32m   1878\u001b[0m     \u001b[38;5;28;01mif\u001b[39;00m \u001b[38;5;124m\"\u001b[39m\u001b[38;5;124mb\u001b[39m\u001b[38;5;124m\"\u001b[39m \u001b[38;5;129;01mnot\u001b[39;00m \u001b[38;5;129;01min\u001b[39;00m mode:\n\u001b[0;32m   1879\u001b[0m         mode \u001b[38;5;241m+\u001b[39m\u001b[38;5;241m=\u001b[39m \u001b[38;5;124m\"\u001b[39m\u001b[38;5;124mb\u001b[39m\u001b[38;5;124m\"\u001b[39m\n\u001b[1;32m-> 1880\u001b[0m \u001b[38;5;28mself\u001b[39m\u001b[38;5;241m.\u001b[39mhandles \u001b[38;5;241m=\u001b[39m get_handle(\n\u001b[0;32m   1881\u001b[0m     f,\n\u001b[0;32m   1882\u001b[0m     mode,\n\u001b[0;32m   1883\u001b[0m     encoding\u001b[38;5;241m=\u001b[39m\u001b[38;5;28mself\u001b[39m\u001b[38;5;241m.\u001b[39moptions\u001b[38;5;241m.\u001b[39mget(\u001b[38;5;124m\"\u001b[39m\u001b[38;5;124mencoding\u001b[39m\u001b[38;5;124m\"\u001b[39m, \u001b[38;5;28;01mNone\u001b[39;00m),\n\u001b[0;32m   1884\u001b[0m     compression\u001b[38;5;241m=\u001b[39m\u001b[38;5;28mself\u001b[39m\u001b[38;5;241m.\u001b[39moptions\u001b[38;5;241m.\u001b[39mget(\u001b[38;5;124m\"\u001b[39m\u001b[38;5;124mcompression\u001b[39m\u001b[38;5;124m\"\u001b[39m, \u001b[38;5;28;01mNone\u001b[39;00m),\n\u001b[0;32m   1885\u001b[0m     memory_map\u001b[38;5;241m=\u001b[39m\u001b[38;5;28mself\u001b[39m\u001b[38;5;241m.\u001b[39moptions\u001b[38;5;241m.\u001b[39mget(\u001b[38;5;124m\"\u001b[39m\u001b[38;5;124mmemory_map\u001b[39m\u001b[38;5;124m\"\u001b[39m, \u001b[38;5;28;01mFalse\u001b[39;00m),\n\u001b[0;32m   1886\u001b[0m     is_text\u001b[38;5;241m=\u001b[39mis_text,\n\u001b[0;32m   1887\u001b[0m     errors\u001b[38;5;241m=\u001b[39m\u001b[38;5;28mself\u001b[39m\u001b[38;5;241m.\u001b[39moptions\u001b[38;5;241m.\u001b[39mget(\u001b[38;5;124m\"\u001b[39m\u001b[38;5;124mencoding_errors\u001b[39m\u001b[38;5;124m\"\u001b[39m, \u001b[38;5;124m\"\u001b[39m\u001b[38;5;124mstrict\u001b[39m\u001b[38;5;124m\"\u001b[39m),\n\u001b[0;32m   1888\u001b[0m     storage_options\u001b[38;5;241m=\u001b[39m\u001b[38;5;28mself\u001b[39m\u001b[38;5;241m.\u001b[39moptions\u001b[38;5;241m.\u001b[39mget(\u001b[38;5;124m\"\u001b[39m\u001b[38;5;124mstorage_options\u001b[39m\u001b[38;5;124m\"\u001b[39m, \u001b[38;5;28;01mNone\u001b[39;00m),\n\u001b[0;32m   1889\u001b[0m )\n\u001b[0;32m   1890\u001b[0m \u001b[38;5;28;01massert\u001b[39;00m \u001b[38;5;28mself\u001b[39m\u001b[38;5;241m.\u001b[39mhandles \u001b[38;5;129;01mis\u001b[39;00m \u001b[38;5;129;01mnot\u001b[39;00m \u001b[38;5;28;01mNone\u001b[39;00m\n\u001b[0;32m   1891\u001b[0m f \u001b[38;5;241m=\u001b[39m \u001b[38;5;28mself\u001b[39m\u001b[38;5;241m.\u001b[39mhandles\u001b[38;5;241m.\u001b[39mhandle\n",
      "File \u001b[1;32m~\\anaconda3\\Lib\\site-packages\\pandas\\io\\common.py:873\u001b[0m, in \u001b[0;36mget_handle\u001b[1;34m(path_or_buf, mode, encoding, compression, memory_map, is_text, errors, storage_options)\u001b[0m\n\u001b[0;32m    868\u001b[0m \u001b[38;5;28;01melif\u001b[39;00m \u001b[38;5;28misinstance\u001b[39m(handle, \u001b[38;5;28mstr\u001b[39m):\n\u001b[0;32m    869\u001b[0m     \u001b[38;5;66;03m# Check whether the filename is to be opened in binary mode.\u001b[39;00m\n\u001b[0;32m    870\u001b[0m     \u001b[38;5;66;03m# Binary mode does not support 'encoding' and 'newline'.\u001b[39;00m\n\u001b[0;32m    871\u001b[0m     \u001b[38;5;28;01mif\u001b[39;00m ioargs\u001b[38;5;241m.\u001b[39mencoding \u001b[38;5;129;01mand\u001b[39;00m \u001b[38;5;124m\"\u001b[39m\u001b[38;5;124mb\u001b[39m\u001b[38;5;124m\"\u001b[39m \u001b[38;5;129;01mnot\u001b[39;00m \u001b[38;5;129;01min\u001b[39;00m ioargs\u001b[38;5;241m.\u001b[39mmode:\n\u001b[0;32m    872\u001b[0m         \u001b[38;5;66;03m# Encoding\u001b[39;00m\n\u001b[1;32m--> 873\u001b[0m         handle \u001b[38;5;241m=\u001b[39m \u001b[38;5;28mopen\u001b[39m(\n\u001b[0;32m    874\u001b[0m             handle,\n\u001b[0;32m    875\u001b[0m             ioargs\u001b[38;5;241m.\u001b[39mmode,\n\u001b[0;32m    876\u001b[0m             encoding\u001b[38;5;241m=\u001b[39mioargs\u001b[38;5;241m.\u001b[39mencoding,\n\u001b[0;32m    877\u001b[0m             errors\u001b[38;5;241m=\u001b[39merrors,\n\u001b[0;32m    878\u001b[0m             newline\u001b[38;5;241m=\u001b[39m\u001b[38;5;124m\"\u001b[39m\u001b[38;5;124m\"\u001b[39m,\n\u001b[0;32m    879\u001b[0m         )\n\u001b[0;32m    880\u001b[0m     \u001b[38;5;28;01melse\u001b[39;00m:\n\u001b[0;32m    881\u001b[0m         \u001b[38;5;66;03m# Binary mode\u001b[39;00m\n\u001b[0;32m    882\u001b[0m         handle \u001b[38;5;241m=\u001b[39m \u001b[38;5;28mopen\u001b[39m(handle, ioargs\u001b[38;5;241m.\u001b[39mmode)\n",
      "\u001b[1;31mFileNotFoundError\u001b[0m: [Errno 2] No such file or directory: './data/TP316H_So.csv'"
     ]
    }
   ],
   "source": [
    "# 판단 기준\n",
    "# [입력값] Pm, PL, Pb\n",
    "# [설계 조건]  \n",
    "# Pm (<=) So \n",
    "# PL+Pb (<=) 1.5 * So\n",
    "\n",
    "# [1단계] So 결정하기\n",
    "# So: the maximum allowable value of general primary membrane stress intensity \n",
    "# (참고)So 결정할 때, 저온의 경우 Smt까지 고려해서 결정해야함. (56page)\n",
    "\n",
    "So=determine_So(\"./data/TP316H_So.csv\")\n",
    "print(f\"테이블에서 읽은 So 값: {So:.2f} MPa\")\n",
    "\n",
    "\n",
    "# [2단계] 설계점 평가 \n",
    "\n",
    "if(Pm <= So):\n",
    "    print(\"Design Limit Condition (a) is passed.\")\n",
    "else:\n",
    "    print(\"Design Limit Condition (a) is failed.\")\n",
    "    \n",
    "# (b) (Pl+Pb) <= 1.5 *So \n",
    "if( (PL+Pb) <= 1.5 *So ):\n",
    "    print(\"Design Limit Condition (b) is passed.\")\n",
    "else:\n",
    "    print(\"Design Limit Condition (b) is failed.\")"
   ]
  },
  {
   "cell_type": "markdown",
   "id": "aabf64f5",
   "metadata": {},
   "source": [
    "# Level A and Level B Service Limit"
   ]
  },
  {
   "cell_type": "code",
   "execution_count": 14,
   "id": "7fb956ba",
   "metadata": {},
   "outputs": [
    {
     "data": {
      "image/png": "[encoded data removed]",
      "text/plain": [
       "<Figure size 640x480 with 1 Axes>"
      ]
     },
     "metadata": {},
     "output_type": "display_data"
    },
    {
     "name": "stdout",
     "output_type": "stream",
     "text": [
      "섹션 형상에 맞는 K값을 입력하세요. (참고: Shell-Type 구조의 벽면 Stress를 평가하는 경우 K=1.5를 입력)\n"
     ]
    },
    {
     "name": "stdin",
     "output_type": "stream",
     "text": [
      " 1\n"
     ]
    },
    {
     "name": "stdout",
     "output_type": "stream",
     "text": [
      "The value of K is  1.0\n",
      "The value of Kt is  1.0\n",
      "   Temperature [°C]  Time [h]\n",
      "0             425.0        20\n",
      "1             450.0        30\n",
      "2             475.0        10\n",
      "3             650.0        20\n"
     ]
    }
   ],
   "source": [
    "\n",
    "# 판단 기준\n",
    "# [입력값] Pm, PL, Pb\n",
    "# [설계 조건]  \n",
    "# Pm (<=) Smt \n",
    "# PL+Pb (<=) K * Sm \n",
    "# PL+Pb/Kt (<=) St\n",
    "\n",
    "# K: the section factor for the cross section \n",
    "# Kt: accounts for the reduction in extream fiber bending stress due to the effect of creep \n",
    "\n",
    "# K is given by section shape, and Kt = (K+1)/2\n",
    "\n",
    "K,Kt=determine_K_and_Kt()\n",
    "print(\"The value of K is \", K)\n",
    "print(\"The value of Kt is \", Kt)\n",
    "\n",
    "\n",
    "# 사용자로부터 시간, 히스토리를 입력받아야함. \n",
    "# [User INPUT- OCT]\n",
    "# [시작온도, 끝 온도, time 구간]\n",
    "\n",
    "segments = [\n",
    "    (300, 600, 30),  # 기울기형 구간\n",
    "    (600, 700, 20),  # 계단형 구간\n",
    "    (500, 450, 10),\n",
    "    (400,450, 20)\n",
    "]\n",
    "\n",
    "Tt_ListForSmt =extract_Tt_list_for_Smt(segments, mode=\"mid\")\n",
    "\n",
    "print(Tt_ListForSmt)\n",
    "\n",
    "\n"
   ]
  },
  {
   "cell_type": "code",
   "execution_count": 15,
   "id": "fbf88e7b",
   "metadata": {},
   "outputs": [
    {
     "data": {
      "text/plain": [
       "'\\nimg = mpimg.imread(\\'./images/SmReductionRatio.png\\')\\nplt.imshow(img)\\nplt.axis(\\'off\\')  # 축 없애기\\nplt.show()\\n\\nprint(\"섹션 형상에 맞는 K값을 입력하세요. (참고: Shell-Type 구조의 벽면 Stress를 평가하는 경우 K=1.5를 입력)\")\\n\\nK= float(input())\\nKt= (K+1.0)/2.0\\n\\nprint(\"The value of K is \", K)\\nprint(\"The value of Kt is \", Kt)\\n'"
      ]
     },
     "execution_count": 15,
     "metadata": {},
     "output_type": "execute_result"
    }
   ],
   "source": [
    "\n",
    "'''\n",
    "img = mpimg.imread('./images/SmReductionRatio.png')\n",
    "plt.imshow(img)\n",
    "plt.axis('off')  # 축 없애기\n",
    "plt.show()\n",
    "\n",
    "print(\"섹션 형상에 맞는 K값을 입력하세요. (참고: Shell-Type 구조의 벽면 Stress를 평가하는 경우 K=1.5를 입력)\")\n",
    "\n",
    "K= float(input())\n",
    "Kt= (K+1.0)/2.0\n",
    "\n",
    "print(\"The value of K is \", K)\n",
    "print(\"The value of Kt is \", Kt)\n",
    "'''\n"
   ]
  },
  {
   "cell_type": "markdown",
   "id": "bcbf0bea",
   "metadata": {},
   "source": [
    "# Level A Limit \n",
    "## Based on Linearly Elastic Material Model Analysis"
   ]
  },
  {
   "cell_type": "code",
   "execution_count": 16,
   "id": "a650cbbd",
   "metadata": {},
   "outputs": [
    {
     "name": "stdout",
     "output_type": "stream",
     "text": [
      "+----------+---------+----------+--------+\n",
      "| 세그먼트 | 시간[h] | 온도[°C] |  Smt   |\n",
      "+----------+---------+----------+--------+\n",
      "|   1.0    |  20.0   |  425.0   | 110.0  |\n",
      "|   2.0    |  30.0   |  450.0   | 104.8  |\n",
      "|   3.0    |  10.0   |  475.0   | 100.67 |\n",
      "|   4.0    |  20.0   |  650.0   |  65.6  |\n",
      "+----------+---------+----------+--------+\n"
     ]
    }
   ],
   "source": [
    "import pandas as pd\n",
    "import numpy as np\n",
    "from tabulate import tabulate\n",
    "\n",
    "# CSV 읽기\n",
    "df = pd.read_csv(\"Smt1.csv\", encoding=\"utf-8-sig\")\n",
    "\n",
    "# 첫 열을 온도로 설정\n",
    "df = df.rename(columns={\"Unnamed: 0\": \"온도\"})\n",
    "df = df.set_index(\"온도\")\n",
    "df.columns = df.columns.astype(float)   # 시간축을 숫자로 변환\n",
    "\n",
    "# (시간, 온도) → Smt 계산 함수\n",
    "def get_smt(time_val, temp_val):\n",
    "    times = df.columns.values\n",
    "    temps = df.index.values\n",
    "\n",
    "    # ----- 시간 구간 찾기 -----\n",
    "    right_idx = np.searchsorted(times, time_val, side=\"left\")\n",
    "    if right_idx == 0:\n",
    "        time_low, time_high = times[0], times[1]\n",
    "    elif right_idx >= len(times):\n",
    "        time_low, time_high = times[-2], times[-1]\n",
    "    else:\n",
    "        time_low, time_high = times[right_idx-1], times[right_idx]\n",
    "\n",
    "    # ----- 온도 보간 (time_low) -----\n",
    "    smt_lowT = np.interp(temp_val, [temps.min(), temps.max()],\n",
    "                         [df.loc[temps.min(), time_low], df.loc[temps.max(), time_low]])\n",
    "\n",
    "    # ----- 온도 보간 (time_high) -----\n",
    "    smt_highT = np.interp(temp_val, [temps.min(), temps.max()],\n",
    "                          [df.loc[temps.min(), time_high], df.loc[temps.max(), time_high]])\n",
    "\n",
    "    # ----- 시간 보간 -----\n",
    "    smt_val = np.interp(time_val, [time_low, time_high], [smt_lowT, smt_highT])\n",
    "    return smt_val\n",
    "\n",
    "# ===== (시간, 온도) 리스트 추출 =====\n",
    "Tt_ListForSmt = extract_Tt_list_for_Smt(segments, mode=\"mid\")  \n",
    "\n",
    "# ===== (시간, 온도) → Smt 계산 후 DataFrame 생성 =====\n",
    "results = []\n",
    "for idx, row in Tt_ListForSmt.iterrows():\n",
    "    t = row[\"Time [h]\"]\n",
    "    temp = row[\"Temperature [°C]\"]\n",
    "    smt = get_smt(t, temp)\n",
    "    results.append((idx+1, t, temp, round(smt, 2)))  # 소수점 2자리\n",
    "\n",
    "results_df = pd.DataFrame(results, columns=[\"세그먼트\", \"시간[h]\", \"온도[°C]\", \"Smt\"])\n",
    "\n",
    "# ===== 콘솔에 표 출력 =====\n",
    "print(tabulate(results_df, headers=\"keys\", tablefmt=\"pretty\", showindex=False))\n"
   ]
  },
  {
   "cell_type": "code",
   "execution_count": null,
   "id": "f1e55c1a-baca-47cb-b3bb-c5606504a5d5",
   "metadata": {},
   "outputs": [],
   "source": []
  }
 ],
 "metadata": {
  "kernelspec": {
   "display_name": "Python [conda env:base] *",
   "language": "python",
   "name": "conda-base-py"
  },
  "language_info": {
   "codemirror_mode": {
    "name": "ipython",
    "version": 3
   },
   "file_extension": ".py",
   "mimetype": "text/x-python",
   "name": "python",
   "nbconvert_exporter": "python",
   "pygments_lexer": "ipython3",
   "version": "3.12.7"
  }
 },
 "nbformat": 4,
 "nbformat_minor": 5
}
